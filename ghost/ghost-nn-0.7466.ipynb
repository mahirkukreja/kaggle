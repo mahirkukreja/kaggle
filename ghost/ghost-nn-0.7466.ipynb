{
 "cells": [
  {
   "cell_type": "code",
   "execution_count": null,
   "metadata": {
    "collapsed": false
   },
   "outputs": [],
   "source": []
  },
  {
   "cell_type": "code",
   "execution_count": null,
   "metadata": {
    "collapsed": false
   },
   "outputs": [],
   "source": []
  },
  {
   "cell_type": "code",
   "execution_count": null,
   "metadata": {
    "collapsed": false
   },
   "outputs": [],
   "source": []
  },
  {
   "cell_type": "code",
   "execution_count": null,
   "metadata": {
    "collapsed": false
   },
   "outputs": [],
   "source": []
  },
  {
   "cell_type": "code",
   "execution_count": null,
   "metadata": {
    "collapsed": false
   },
   "outputs": [],
   "source": []
  },
  {
   "cell_type": "code",
   "execution_count": 24,
   "metadata": {
    "collapsed": false
   },
   "outputs": [
    {
     "name": "stderr",
     "output_type": "stream",
     "text": [
      "/home/mahir/anaconda2/envs/gl-env/lib/python2.7/site-packages/ipykernel/__main__.py:19: SettingWithCopyWarning: \n",
      "A value is trying to be set on a copy of a slice from a DataFrame.\n",
      "Try using .loc[row_indexer,col_indexer] = value instead\n",
      "\n",
      "See the caveats in the documentation: http://pandas.pydata.org/pandas-docs/stable/indexing.html#indexing-view-versus-copy\n",
      "WARNING:tensorflow:Change warning: `feature_columns` will be required after 2016-08-01.\n",
      "Instructions for updating:\n",
      "Pass `tf.contrib.learn.infer_real_valued_columns_from_input(x)` or `tf.contrib.learn.infer_real_valued_columns_from_input_fn(input_fn)` as `feature_columns`, where `x` or `input_fn` is your argument to `fit`, `evaluate`, or `predict`.\n",
      "WARNING:tensorflow:Using temporary folder as model directory: /tmp/tmpVtfDYO\n",
      "WARNING:tensorflow:Setting feature info to TensorSignature(dtype=tf.float32, shape=TensorShape([Dimension(None), Dimension(5)]), is_sparse=False)\n",
      "WARNING:tensorflow:Setting targets info to TensorSignature(dtype=tf.int64, shape=TensorShape([Dimension(None)]), is_sparse=False)\n",
      "INFO:tensorflow:Transforming feature_column _RealValuedColumn(column_name='', dimension=5, default_value=None, dtype=tf.float32)\n",
      "INFO:tensorflow:Create CheckpointSaver\n",
      "INFO:tensorflow:Step 1: loss = 1.24559\n",
      "INFO:tensorflow:Step 101: loss = 0.861776\n",
      "INFO:tensorflow:Step 201: loss = 0.707442\n",
      "INFO:tensorflow:Saving checkpoints for 300 into /tmp/tmpVtfDYO/model.ckpt.\n",
      "INFO:tensorflow:Step 301: loss = 0.634192\n",
      "INFO:tensorflow:Step 401: loss = 0.595382\n",
      "INFO:tensorflow:Step 501: loss = 0.570036\n",
      "INFO:tensorflow:Saving checkpoints for 600 into /tmp/tmpVtfDYO/model.ckpt.\n",
      "INFO:tensorflow:Step 601: loss = 0.553226\n",
      "INFO:tensorflow:Step 701: loss = 0.541233\n",
      "INFO:tensorflow:Step 801: loss = 0.532142\n",
      "INFO:tensorflow:Saving checkpoints for 900 into /tmp/tmpVtfDYO/model.ckpt.\n",
      "INFO:tensorflow:Step 901: loss = 0.525541\n",
      "INFO:tensorflow:Step 1001: loss = 0.520284\n",
      "INFO:tensorflow:Step 1101: loss = 0.51658\n",
      "INFO:tensorflow:Saving checkpoints for 1200 into /tmp/tmpVtfDYO/model.ckpt.\n",
      "INFO:tensorflow:Step 1201: loss = 0.513855\n",
      "INFO:tensorflow:Step 1301: loss = 0.511798\n",
      "INFO:tensorflow:Step 1401: loss = 0.510258\n",
      "INFO:tensorflow:Saving checkpoints for 1500 into /tmp/tmpVtfDYO/model.ckpt.\n",
      "INFO:tensorflow:Step 1501: loss = 0.509051\n",
      "INFO:tensorflow:Step 1601: loss = 0.508027\n",
      "INFO:tensorflow:Step 1701: loss = 0.50714\n",
      "INFO:tensorflow:Saving checkpoints for 1800 into /tmp/tmpVtfDYO/model.ckpt.\n",
      "INFO:tensorflow:Step 1801: loss = 0.506454\n",
      "INFO:tensorflow:Step 1901: loss = 0.505882\n",
      "INFO:tensorflow:Step 2001: loss = 0.505365\n",
      "INFO:tensorflow:Saving checkpoints for 2100 into /tmp/tmpVtfDYO/model.ckpt.\n",
      "INFO:tensorflow:Step 2101: loss = 0.504876\n",
      "INFO:tensorflow:Step 2201: loss = 0.504443\n",
      "INFO:tensorflow:Step 2301: loss = 0.504046\n",
      "INFO:tensorflow:Saving checkpoints for 2400 into /tmp/tmpVtfDYO/model.ckpt.\n",
      "INFO:tensorflow:Step 2401: loss = 0.503658\n",
      "INFO:tensorflow:Step 2501: loss = 0.503285\n",
      "INFO:tensorflow:Step 2601: loss = 0.502916\n",
      "INFO:tensorflow:Saving checkpoints for 2700 into /tmp/tmpVtfDYO/model.ckpt.\n",
      "INFO:tensorflow:Step 2701: loss = 0.502582\n",
      "INFO:tensorflow:Step 2801: loss = 0.502264\n",
      "INFO:tensorflow:Step 2901: loss = 0.501947\n",
      "INFO:tensorflow:Saving checkpoints for 3000 into /tmp/tmpVtfDYO/model.ckpt.\n",
      "INFO:tensorflow:Step 3001: loss = 0.501634\n",
      "INFO:tensorflow:Step 3101: loss = 0.501311\n",
      "INFO:tensorflow:Step 3201: loss = 0.500991\n",
      "INFO:tensorflow:Saving checkpoints for 3300 into /tmp/tmpVtfDYO/model.ckpt.\n",
      "INFO:tensorflow:Step 3301: loss = 0.500677\n",
      "INFO:tensorflow:Step 3401: loss = 0.500377\n",
      "INFO:tensorflow:Step 3501: loss = 0.500086\n",
      "INFO:tensorflow:Saving checkpoints for 3600 into /tmp/tmpVtfDYO/model.ckpt.\n",
      "INFO:tensorflow:Step 3601: loss = 0.499786\n",
      "INFO:tensorflow:Step 3701: loss = 0.4995\n",
      "INFO:tensorflow:Step 3801: loss = 0.499229\n",
      "INFO:tensorflow:Saving checkpoints for 3900 into /tmp/tmpVtfDYO/model.ckpt.\n",
      "INFO:tensorflow:Step 3901: loss = 0.498928\n",
      "INFO:tensorflow:Step 4001: loss = 0.498639\n",
      "INFO:tensorflow:Step 4101: loss = 0.498345\n",
      "INFO:tensorflow:Saving checkpoints for 4200 into /tmp/tmpVtfDYO/model.ckpt.\n",
      "INFO:tensorflow:Step 4201: loss = 0.49801\n",
      "INFO:tensorflow:Step 4301: loss = 0.497687\n",
      "INFO:tensorflow:Step 4401: loss = 0.497335\n",
      "INFO:tensorflow:Saving checkpoints for 4500 into /tmp/tmpVtfDYO/model.ckpt.\n",
      "INFO:tensorflow:Step 4501: loss = 0.497058\n",
      "INFO:tensorflow:Step 4601: loss = 0.49681\n",
      "INFO:tensorflow:Step 4701: loss = 0.496574\n",
      "INFO:tensorflow:Saving checkpoints for 4800 into /tmp/tmpVtfDYO/model.ckpt.\n",
      "INFO:tensorflow:Step 4801: loss = 0.496363\n",
      "INFO:tensorflow:Step 4901: loss = 0.496152\n",
      "INFO:tensorflow:Step 5001: loss = 0.495909\n",
      "INFO:tensorflow:Saving checkpoints for 5100 into /tmp/tmpVtfDYO/model.ckpt.\n",
      "INFO:tensorflow:Step 5101: loss = 0.495637\n",
      "INFO:tensorflow:Step 5201: loss = 0.495426\n",
      "INFO:tensorflow:Step 5301: loss = 0.495197\n",
      "INFO:tensorflow:Saving checkpoints for 5400 into /tmp/tmpVtfDYO/model.ckpt.\n",
      "INFO:tensorflow:Step 5401: loss = 0.495013\n",
      "INFO:tensorflow:Saving checkpoints for 5500 into /tmp/tmpVtfDYO/model.ckpt.\n",
      "INFO:tensorflow:Loss for final step: 0.494816.\n",
      "INFO:tensorflow:Transforming feature_column _RealValuedColumn(column_name='', dimension=5, default_value=None, dtype=tf.float32)\n",
      "INFO:tensorflow:Loading model from checkpoint: /tmp/tmpVtfDYO/model.ckpt-5500-?????-of-00001.\n",
      "/home/mahir/anaconda2/envs/gl-env/lib/python2.7/site-packages/ipykernel/__main__.py:38: SettingWithCopyWarning: \n",
      "A value is trying to be set on a copy of a slice from a DataFrame.\n",
      "Try using .loc[row_indexer,col_indexer] = value instead\n",
      "\n",
      "See the caveats in the documentation: http://pandas.pydata.org/pandas-docs/stable/indexing.html#indexing-view-versus-copy\n",
      "INFO:tensorflow:Transforming feature_column _RealValuedColumn(column_name='', dimension=5, default_value=None, dtype=tf.float32)\n",
      "INFO:tensorflow:Loading model from checkpoint: /tmp/tmpVtfDYO/model.ckpt-5500-?????-of-00001.\n"
     ]
    },
    {
     "name": "stdout",
     "output_type": "stream",
     "text": [
      "0.760107816712\n"
     ]
    }
   ],
   "source": [
    "import numpy as np\n",
    "import pandas as pd\n",
    "df=pd.read_csv('train.csv')\n",
    "import seaborn as sns\n",
    "import matplotlib.pyplot as plt\n",
    "%matplotlib inline\n",
    "features = [\"bone_length\",\"rotting_flesh\",\"hair_length\",\"color\",\"has_soul\"]\n",
    "X = df[features]\n",
    "id_ = df[\"id\"]\n",
    "y = df[\"type\"]\n",
    "# Selecting features\n",
    "features = [\"bone_length\",\"rotting_flesh\",\"hair_length\",\"color\",\"has_soul\"]\n",
    "X = df[features]\n",
    "y = df[\"type\"]\n",
    "from sklearn.preprocessing import LabelEncoder as LE\n",
    "letype = LE()\n",
    "y = letype.fit_transform(y)\n",
    "lecolor = LE()\n",
    "X[\"color\"] = lecolor.fit_transform(X[\"color\"])\n",
    "from sklearn.cross_validation import train_test_split\n",
    "num_test = 0.0\n",
    "X_train, X_test, y_train, y_test = train_test_split(X, y, test_size=num_test,random_state=9)\n",
    "import logging\n",
    "logging.getLogger().setLevel(logging.INFO)\n",
    "from sklearn import datasets, svm, cross_validation, tree, preprocessing, metrics\n",
    "import sklearn.ensemble as ske\n",
    "import tensorflow as tf\n",
    "from tensorflow.contrib import learn\n",
    "classifier = learn.DNNClassifier(hidden_units=[15], n_classes=3)\n",
    "classifier.fit(x=X_train, y=y_train, max_steps=5500)\n",
    "from sklearn.metrics import make_scorer, accuracy_score\n",
    "predictions = classifier.predict(X_train)\n",
    "print(accuracy_score(y_train, predictions))\n",
    "test_df = pd.read_csv(\"test.csv\")\n",
    "\n",
    "X_test = test_df[features]\n",
    "id_ = test_df[\"id\"]\n",
    "X_test[\"color\"] = lecolor.transform(X_test[\"color\"])\n",
    "pred = classifier.predict(X_test)\n",
    "pred = letype.inverse_transform(pred)\n",
    "pred\n",
    "output = pd.DataFrame({\"id\": id_,\"type\":pred})\n",
    "output.to_csv('ghost.csv',index=False)"
   ]
  },
  {
   "cell_type": "code",
   "execution_count": 25,
   "metadata": {
    "collapsed": false
   },
   "outputs": [],
   "source": [
    "df=pd.read_csv(\"ghost.csv\")"
   ]
  },
  {
   "cell_type": "code",
   "execution_count": 26,
   "metadata": {
    "collapsed": false
   },
   "outputs": [
    {
     "data": {
      "text/plain": [
       "Ghoul     187\n",
       "Ghost     186\n",
       "Goblin    156\n",
       "Name: type, dtype: int64"
      ]
     },
     "execution_count": 26,
     "metadata": {},
     "output_type": "execute_result"
    }
   ],
   "source": [
    "df['type'].value_counts()"
   ]
  },
  {
   "cell_type": "code",
   "execution_count": 27,
   "metadata": {
    "collapsed": false
   },
   "outputs": [
    {
     "name": "stderr",
     "output_type": "stream",
     "text": [
      "INFO:tensorflow:Transforming feature_column _RealValuedColumn(column_name='', dimension=5, default_value=None, dtype=tf.float32)\n",
      "INFO:tensorflow:Loading model from checkpoint: /tmp/tmpVtfDYO/model.ckpt-5500-?????-of-00001.\n"
     ]
    }
   ],
   "source": [
    "pre = classifier.predict_proba(X_test)\n"
   ]
  },
  {
   "cell_type": "code",
   "execution_count": 29,
   "metadata": {
    "collapsed": false
   },
   "outputs": [],
   "source": [
    "from sklearn.preprocessing import LabelEncoder\n",
    "LE = LabelEncoder().fit(df['type']) \n",
    "labels = LE.transform(df['type'])           # encode species strings\n",
    "classes = list(LE.classes_)                    # save column names for submission"
   ]
  },
  {
   "cell_type": "code",
   "execution_count": 32,
   "metadata": {
    "collapsed": false
   },
   "outputs": [],
   "source": [
    "output = pd.DataFrame(pre,columns=classes)\n",
    "output.to_csv('proba.csv',index=False)"
   ]
  },
  {
   "cell_type": "code",
   "execution_count": null,
   "metadata": {
    "collapsed": false
   },
   "outputs": [],
   "source": []
  },
  {
   "cell_type": "code",
   "execution_count": null,
   "metadata": {
    "collapsed": false
   },
   "outputs": [],
   "source": []
  },
  {
   "cell_type": "code",
   "execution_count": null,
   "metadata": {
    "collapsed": false
   },
   "outputs": [],
   "source": []
  },
  {
   "cell_type": "code",
   "execution_count": null,
   "metadata": {
    "collapsed": false
   },
   "outputs": [],
   "source": []
  }
 ],
 "metadata": {
  "anaconda-cloud": {},
  "kernelspec": {
   "display_name": "Python [gl-env]",
   "language": "python",
   "name": "Python [gl-env]"
  },
  "language_info": {
   "codemirror_mode": {
    "name": "ipython",
    "version": 2
   },
   "file_extension": ".py",
   "mimetype": "text/x-python",
   "name": "python",
   "nbconvert_exporter": "python",
   "pygments_lexer": "ipython2",
   "version": "2.7.12"
  }
 },
 "nbformat": 4,
 "nbformat_minor": 0
}
